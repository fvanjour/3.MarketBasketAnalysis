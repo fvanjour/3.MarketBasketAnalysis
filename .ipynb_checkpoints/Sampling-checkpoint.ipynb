{
 "cells": [
  {
   "cell_type": "markdown",
   "id": "9f2a7633",
   "metadata": {},
   "source": [
    "# Sampling\n",
    "Reducing large dataset by 99.9%"
   ]
  },
  {
   "cell_type": "code",
   "execution_count": 1,
   "id": "263ae4f1",
   "metadata": {},
   "outputs": [],
   "source": [
    "# Import libraries\n",
    "import os\n",
    "import pandas as pd"
   ]
  },
  {
   "cell_type": "code",
   "execution_count": 2,
   "id": "2ff7275e",
   "metadata": {},
   "outputs": [],
   "source": [
    "# set path for data files\n",
    "path = \"C:\\\\Users\\\\Min Dator\\\\NodBootcamp\\\\BC#3\\\\Projects\\\\3. MarketBasketAnalysis\\\\data\"\n",
    "os.chdir(path)"
   ]
  },
  {
   "cell_type": "code",
   "execution_count": 3,
   "id": "5f33bd2c",
   "metadata": {},
   "outputs": [],
   "source": [
    "# create dataframes from CSV\n",
    "departments = pd.read_csv('departments.csv')\n",
    "aisles = pd.read_csv('aisles.csv')\n",
    "products = pd.read_csv('products.csv')\n",
    "orders = pd.read_csv('orders.csv', low_memory=False)\n",
    "order_products = pd.read_csv('order_products__prior.csv', low_memory=False)"
   ]
  },
  {
   "cell_type": "code",
   "execution_count": 4,
   "id": "c0618a93",
   "metadata": {},
   "outputs": [],
   "source": [
    "# merge dataframes for easy plotting and drop columns which are not needed\n",
    "merged_products = products.merge(departments, how=\"left\", on=\"department_id\")\n",
    "merged_products = merged_products.merge(aisles, how=\"left\", on=\"aisle_id\")\n",
    "merged_products.drop(columns=[\"aisle_id\",\"department_id\"],inplace=True)\n",
    "market_basket = order_products.merge(merged_products, how=\"left\", on=\"product_id\")\n",
    "market_basket = orders.merge(market_basket, how=\"inner\", on=\"order_id\")\n",
    "market_basket.drop(columns=\"eval_set\",inplace=True)\n",
    "\n",
    "# Extract sample. Reduce dataframe size by 99%\n",
    "df_sorted = market_basket.sort_values(by=['order_id','add_to_cart_order'])\n",
    "\n",
    "rows_to_keep = int(0.001 * len(df_sorted))\n",
    "market_basket_sample = df_sorted.head(rows_to_keep)"
   ]
  },
  {
   "cell_type": "code",
   "execution_count": 5,
   "id": "bfce81f5",
   "metadata": {},
   "outputs": [],
   "source": [
    "# Save merged and reduced dataframe\n",
    "market_basket_sample.to_csv('market_basket_sample.csv', index=False)"
   ]
  },
  {
   "cell_type": "code",
   "execution_count": null,
   "id": "bbd7d77c",
   "metadata": {},
   "outputs": [],
   "source": []
  }
 ],
 "metadata": {
  "kernelspec": {
   "display_name": "Python 3 (ipykernel)",
   "language": "python",
   "name": "python3"
  },
  "language_info": {
   "codemirror_mode": {
    "name": "ipython",
    "version": 3
   },
   "file_extension": ".py",
   "mimetype": "text/x-python",
   "name": "python",
   "nbconvert_exporter": "python",
   "pygments_lexer": "ipython3",
   "version": "3.11.3"
  }
 },
 "nbformat": 4,
 "nbformat_minor": 5
}
